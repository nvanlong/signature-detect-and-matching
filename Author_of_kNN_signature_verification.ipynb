{
  "nbformat": 4,
  "nbformat_minor": 0,
  "metadata": {
    "colab": {
      "name": "Author of kNN_signature verification.ipynb",
      "provenance": [],
      "collapsed_sections": []
    },
    "kernelspec": {
      "display_name": "Python 3",
      "name": "python3"
    },
    "language_info": {
      "name": "python"
    },
    "accelerator": "GPU",
    "widgets": {
      "application/vnd.jupyter.widget-state+json": {
        "c89d764e57e54045a9cefa5ac40a9211": {
          "model_module": "@jupyter-widgets/controls",
          "model_name": "HBoxModel",
          "model_module_version": "1.5.0",
          "state": {
            "_view_name": "HBoxView",
            "_dom_classes": [],
            "_model_name": "HBoxModel",
            "_view_module": "@jupyter-widgets/controls",
            "_model_module_version": "1.5.0",
            "_view_count": null,
            "_view_module_version": "1.5.0",
            "box_style": "",
            "layout": "IPY_MODEL_39349515392e4fa2a037a319da0c24dd",
            "_model_module": "@jupyter-widgets/controls",
            "children": [
              "IPY_MODEL_90e73767b2da4a4f911bdd48925554a2",
              "IPY_MODEL_24252ae24b174a11be2183ccc75a668d",
              "IPY_MODEL_4b885a362acc41df8d538f16820eae83"
            ]
          }
        },
        "39349515392e4fa2a037a319da0c24dd": {
          "model_module": "@jupyter-widgets/base",
          "model_name": "LayoutModel",
          "model_module_version": "1.2.0",
          "state": {
            "_view_name": "LayoutView",
            "grid_template_rows": null,
            "right": null,
            "justify_content": null,
            "_view_module": "@jupyter-widgets/base",
            "overflow": null,
            "_model_module_version": "1.2.0",
            "_view_count": null,
            "flex_flow": null,
            "width": null,
            "min_width": null,
            "border": null,
            "align_items": null,
            "bottom": null,
            "_model_module": "@jupyter-widgets/base",
            "top": null,
            "grid_column": null,
            "overflow_y": null,
            "overflow_x": null,
            "grid_auto_flow": null,
            "grid_area": null,
            "grid_template_columns": null,
            "flex": null,
            "_model_name": "LayoutModel",
            "justify_items": null,
            "grid_row": null,
            "max_height": null,
            "align_content": null,
            "visibility": null,
            "align_self": null,
            "height": null,
            "min_height": null,
            "padding": null,
            "grid_auto_rows": null,
            "grid_gap": null,
            "max_width": null,
            "order": null,
            "_view_module_version": "1.2.0",
            "grid_template_areas": null,
            "object_position": null,
            "object_fit": null,
            "grid_auto_columns": null,
            "margin": null,
            "display": null,
            "left": null
          }
        },
        "90e73767b2da4a4f911bdd48925554a2": {
          "model_module": "@jupyter-widgets/controls",
          "model_name": "HTMLModel",
          "model_module_version": "1.5.0",
          "state": {
            "_view_name": "HTMLView",
            "style": "IPY_MODEL_0195b4ced1ae4f54913d964c9a78f4a2",
            "_dom_classes": [],
            "description": "",
            "_model_name": "HTMLModel",
            "placeholder": "​",
            "_view_module": "@jupyter-widgets/controls",
            "_model_module_version": "1.5.0",
            "value": "100%",
            "_view_count": null,
            "_view_module_version": "1.5.0",
            "description_tooltip": null,
            "_model_module": "@jupyter-widgets/controls",
            "layout": "IPY_MODEL_d4ebc594206b4024bc02636aba88a901"
          }
        },
        "24252ae24b174a11be2183ccc75a668d": {
          "model_module": "@jupyter-widgets/controls",
          "model_name": "FloatProgressModel",
          "model_module_version": "1.5.0",
          "state": {
            "_view_name": "ProgressView",
            "style": "IPY_MODEL_9fdd32496dc049e3a3d9acd41ef7b03c",
            "_dom_classes": [],
            "description": "",
            "_model_name": "FloatProgressModel",
            "bar_style": "success",
            "max": 46830571,
            "_view_module": "@jupyter-widgets/controls",
            "_model_module_version": "1.5.0",
            "value": 46830571,
            "_view_count": null,
            "_view_module_version": "1.5.0",
            "orientation": "horizontal",
            "min": 0,
            "description_tooltip": null,
            "_model_module": "@jupyter-widgets/controls",
            "layout": "IPY_MODEL_fc7b152b9fbc44e39972a7033b899445"
          }
        },
        "4b885a362acc41df8d538f16820eae83": {
          "model_module": "@jupyter-widgets/controls",
          "model_name": "HTMLModel",
          "model_module_version": "1.5.0",
          "state": {
            "_view_name": "HTMLView",
            "style": "IPY_MODEL_5635f7e63eca4b0b98a414485ec15edf",
            "_dom_classes": [],
            "description": "",
            "_model_name": "HTMLModel",
            "placeholder": "​",
            "_view_module": "@jupyter-widgets/controls",
            "_model_module_version": "1.5.0",
            "value": " 44.7M/44.7M [00:00&lt;00:00, 70.6MB/s]",
            "_view_count": null,
            "_view_module_version": "1.5.0",
            "description_tooltip": null,
            "_model_module": "@jupyter-widgets/controls",
            "layout": "IPY_MODEL_b07723f9c2bd403991fc86bdeed75881"
          }
        },
        "0195b4ced1ae4f54913d964c9a78f4a2": {
          "model_module": "@jupyter-widgets/controls",
          "model_name": "DescriptionStyleModel",
          "model_module_version": "1.5.0",
          "state": {
            "_view_name": "StyleView",
            "_model_name": "DescriptionStyleModel",
            "description_width": "",
            "_view_module": "@jupyter-widgets/base",
            "_model_module_version": "1.5.0",
            "_view_count": null,
            "_view_module_version": "1.2.0",
            "_model_module": "@jupyter-widgets/controls"
          }
        },
        "d4ebc594206b4024bc02636aba88a901": {
          "model_module": "@jupyter-widgets/base",
          "model_name": "LayoutModel",
          "model_module_version": "1.2.0",
          "state": {
            "_view_name": "LayoutView",
            "grid_template_rows": null,
            "right": null,
            "justify_content": null,
            "_view_module": "@jupyter-widgets/base",
            "overflow": null,
            "_model_module_version": "1.2.0",
            "_view_count": null,
            "flex_flow": null,
            "width": null,
            "min_width": null,
            "border": null,
            "align_items": null,
            "bottom": null,
            "_model_module": "@jupyter-widgets/base",
            "top": null,
            "grid_column": null,
            "overflow_y": null,
            "overflow_x": null,
            "grid_auto_flow": null,
            "grid_area": null,
            "grid_template_columns": null,
            "flex": null,
            "_model_name": "LayoutModel",
            "justify_items": null,
            "grid_row": null,
            "max_height": null,
            "align_content": null,
            "visibility": null,
            "align_self": null,
            "height": null,
            "min_height": null,
            "padding": null,
            "grid_auto_rows": null,
            "grid_gap": null,
            "max_width": null,
            "order": null,
            "_view_module_version": "1.2.0",
            "grid_template_areas": null,
            "object_position": null,
            "object_fit": null,
            "grid_auto_columns": null,
            "margin": null,
            "display": null,
            "left": null
          }
        },
        "9fdd32496dc049e3a3d9acd41ef7b03c": {
          "model_module": "@jupyter-widgets/controls",
          "model_name": "ProgressStyleModel",
          "model_module_version": "1.5.0",
          "state": {
            "_view_name": "StyleView",
            "_model_name": "ProgressStyleModel",
            "description_width": "",
            "_view_module": "@jupyter-widgets/base",
            "_model_module_version": "1.5.0",
            "_view_count": null,
            "_view_module_version": "1.2.0",
            "bar_color": null,
            "_model_module": "@jupyter-widgets/controls"
          }
        },
        "fc7b152b9fbc44e39972a7033b899445": {
          "model_module": "@jupyter-widgets/base",
          "model_name": "LayoutModel",
          "model_module_version": "1.2.0",
          "state": {
            "_view_name": "LayoutView",
            "grid_template_rows": null,
            "right": null,
            "justify_content": null,
            "_view_module": "@jupyter-widgets/base",
            "overflow": null,
            "_model_module_version": "1.2.0",
            "_view_count": null,
            "flex_flow": null,
            "width": null,
            "min_width": null,
            "border": null,
            "align_items": null,
            "bottom": null,
            "_model_module": "@jupyter-widgets/base",
            "top": null,
            "grid_column": null,
            "overflow_y": null,
            "overflow_x": null,
            "grid_auto_flow": null,
            "grid_area": null,
            "grid_template_columns": null,
            "flex": null,
            "_model_name": "LayoutModel",
            "justify_items": null,
            "grid_row": null,
            "max_height": null,
            "align_content": null,
            "visibility": null,
            "align_self": null,
            "height": null,
            "min_height": null,
            "padding": null,
            "grid_auto_rows": null,
            "grid_gap": null,
            "max_width": null,
            "order": null,
            "_view_module_version": "1.2.0",
            "grid_template_areas": null,
            "object_position": null,
            "object_fit": null,
            "grid_auto_columns": null,
            "margin": null,
            "display": null,
            "left": null
          }
        },
        "5635f7e63eca4b0b98a414485ec15edf": {
          "model_module": "@jupyter-widgets/controls",
          "model_name": "DescriptionStyleModel",
          "model_module_version": "1.5.0",
          "state": {
            "_view_name": "StyleView",
            "_model_name": "DescriptionStyleModel",
            "description_width": "",
            "_view_module": "@jupyter-widgets/base",
            "_model_module_version": "1.5.0",
            "_view_count": null,
            "_view_module_version": "1.2.0",
            "_model_module": "@jupyter-widgets/controls"
          }
        },
        "b07723f9c2bd403991fc86bdeed75881": {
          "model_module": "@jupyter-widgets/base",
          "model_name": "LayoutModel",
          "model_module_version": "1.2.0",
          "state": {
            "_view_name": "LayoutView",
            "grid_template_rows": null,
            "right": null,
            "justify_content": null,
            "_view_module": "@jupyter-widgets/base",
            "overflow": null,
            "_model_module_version": "1.2.0",
            "_view_count": null,
            "flex_flow": null,
            "width": null,
            "min_width": null,
            "border": null,
            "align_items": null,
            "bottom": null,
            "_model_module": "@jupyter-widgets/base",
            "top": null,
            "grid_column": null,
            "overflow_y": null,
            "overflow_x": null,
            "grid_auto_flow": null,
            "grid_area": null,
            "grid_template_columns": null,
            "flex": null,
            "_model_name": "LayoutModel",
            "justify_items": null,
            "grid_row": null,
            "max_height": null,
            "align_content": null,
            "visibility": null,
            "align_self": null,
            "height": null,
            "min_height": null,
            "padding": null,
            "grid_auto_rows": null,
            "grid_gap": null,
            "max_width": null,
            "order": null,
            "_view_module_version": "1.2.0",
            "grid_template_areas": null,
            "object_position": null,
            "object_fit": null,
            "grid_auto_columns": null,
            "margin": null,
            "display": null,
            "left": null
          }
        }
      }
    }
  },
  "cells": [
    {
      "cell_type": "code",
      "metadata": {
        "id": "eqR4C81-iRyM",
        "colab": {
          "base_uri": "https://localhost:8080/"
        },
        "outputId": "b42c3743-7bc6-47c1-e9c7-0ed466f635a5"
      },
      "source": [
        "!pip install img2vec_pytorch"
      ],
      "execution_count": null,
      "outputs": [
        {
          "output_type": "stream",
          "name": "stdout",
          "text": [
            "Collecting img2vec_pytorch\n",
            "  Downloading img2vec_pytorch-0.2.5.tar.gz (4.2 kB)\n",
            "Requirement already satisfied: torch in /usr/local/lib/python3.7/dist-packages (from img2vec_pytorch) (1.9.0+cu102)\n",
            "Requirement already satisfied: torchvision in /usr/local/lib/python3.7/dist-packages (from img2vec_pytorch) (0.10.0+cu102)\n",
            "Requirement already satisfied: numpy in /usr/local/lib/python3.7/dist-packages (from img2vec_pytorch) (1.19.5)\n",
            "Requirement already satisfied: typing-extensions in /usr/local/lib/python3.7/dist-packages (from torch->img2vec_pytorch) (3.7.4.3)\n",
            "Requirement already satisfied: pillow>=5.3.0 in /usr/local/lib/python3.7/dist-packages (from torchvision->img2vec_pytorch) (7.1.2)\n",
            "Building wheels for collected packages: img2vec-pytorch\n",
            "  Building wheel for img2vec-pytorch (setup.py) ... \u001b[?25l\u001b[?25hdone\n",
            "  Created wheel for img2vec-pytorch: filename=img2vec_pytorch-0.2.5-py3-none-any.whl size=4345 sha256=15b943b251f835e1361fa44ff84ff227ac57762570c28b79a2a68b83d710d3f9\n",
            "  Stored in directory: /root/.cache/pip/wheels/07/4d/bf/9de03c3e76c20899b69498f90624ec499c7c67dd13f183f4e9\n",
            "Successfully built img2vec-pytorch\n",
            "Installing collected packages: img2vec-pytorch\n",
            "Successfully installed img2vec-pytorch-0.2.5\n"
          ]
        }
      ]
    },
    {
      "cell_type": "code",
      "metadata": {
        "id": "VvaQYziOoL38",
        "colab": {
          "base_uri": "https://localhost:8080/",
          "height": 176,
          "referenced_widgets": [
            "c89d764e57e54045a9cefa5ac40a9211",
            "39349515392e4fa2a037a319da0c24dd",
            "90e73767b2da4a4f911bdd48925554a2",
            "24252ae24b174a11be2183ccc75a668d",
            "4b885a362acc41df8d538f16820eae83",
            "0195b4ced1ae4f54913d964c9a78f4a2",
            "d4ebc594206b4024bc02636aba88a901",
            "9fdd32496dc049e3a3d9acd41ef7b03c",
            "fc7b152b9fbc44e39972a7033b899445",
            "5635f7e63eca4b0b98a414485ec15edf",
            "b07723f9c2bd403991fc86bdeed75881"
          ]
        },
        "outputId": "36b679dd-851a-4c1f-acf6-4b89b42609f4"
      },
      "source": [
        "import numpy as np\n",
        "import pandas as pd\n",
        "import tensorflow as tf\n",
        "from tensorflow.keras.preprocessing.image import load_img, img_to_array\n",
        "from sklearn.preprocessing import MinMaxScaler, LabelEncoder\n",
        "from sklearn.metrics import accuracy_score, precision_score, recall_score, f1_score, classification_report\n",
        "from sklearn.model_selection import train_test_split\n",
        "import random\n",
        "import os\n",
        "from img2vec_pytorch import Img2Vec\n",
        "from PIL import Image\n",
        " \n",
        "# Initialize Img2Vec with GPU\n",
        "img2vec = Img2Vec(cuda=False)\n",
        "minmax = MinMaxScaler()\n",
        "np.random.seed(42)"
      ],
      "execution_count": null,
      "outputs": [
        {
          "output_type": "stream",
          "name": "stderr",
          "text": [
            "Downloading: \"https://download.pytorch.org/models/resnet18-f37072fd.pth\" to /root/.cache/torch/hub/checkpoints/resnet18-f37072fd.pth\n"
          ]
        },
        {
          "output_type": "display_data",
          "data": {
            "application/vnd.jupyter.widget-view+json": {
              "model_id": "c89d764e57e54045a9cefa5ac40a9211",
              "version_minor": 0,
              "version_major": 2
            },
            "text/plain": [
              "  0%|          | 0.00/44.7M [00:00<?, ?B/s]"
            ]
          },
          "metadata": {}
        },
        {
          "output_type": "stream",
          "name": "stderr",
          "text": [
            "/usr/local/lib/python3.7/dist-packages/torchvision/transforms/transforms.py:310: UserWarning: The use of the transforms.Scale transform is deprecated, please use transforms.Resize instead.\n",
            "  warnings.warn(\"The use of the transforms.Scale transform is deprecated, \" +\n"
          ]
        }
      ]
    },
    {
      "cell_type": "code",
      "metadata": {
        "colab": {
          "base_uri": "https://localhost:8080/"
        },
        "id": "3HjlV4dV8oHL",
        "outputId": "532af6d1-6cd6-4063-b125-83b5623412e3"
      },
      "source": [
        "from google.colab import drive\n",
        "drive.mount('/content/drive')"
      ],
      "execution_count": null,
      "outputs": [
        {
          "output_type": "stream",
          "name": "stdout",
          "text": [
            "Mounted at /content/drive\n"
          ]
        }
      ]
    },
    {
      "cell_type": "code",
      "metadata": {
        "id": "V97J2-9feW_T"
      },
      "source": [
        "DATA_DIR = '/content/drive/MyDrive/SignatureDetection/author_data'"
      ],
      "execution_count": null,
      "outputs": []
    },
    {
      "cell_type": "code",
      "metadata": {
        "id": "q4wwHYPNrtYV"
      },
      "source": [
        "def load_data_vec(DATA_DIR=DATA_DIR, test_size=0.2, verbose=True, load_grayscale=True):\n",
        "    \"\"\"\n",
        "        Loads the data into a dataframe.\n",
        "        \n",
        "        Arguments:\n",
        "            DATA_DIR: str\n",
        "            test_size: float\n",
        "        Returns:\n",
        "            (x_train, y_train,x_test, y_test, df)\n",
        "    \"\"\"\n",
        "    features = []\n",
        "    features_dict = {}\n",
        "    labels = [] \n",
        "    mode = \"rgb\"\n",
        "    count = 1\n",
        "    if load_grayscale:\n",
        "        mode = \"grayscale\"\n",
        "    \n",
        "    for folder in os.listdir(DATA_DIR):\n",
        "  \n",
        "        if folder == '.DS_Store' or folder == '.ipynb_checkpoints' or folder == 'desktop.ini':\n",
        "            continue\n",
        "        print (count, \"Searching folder: {}\".format(folder))\n",
        "        for sub in os.listdir(DATA_DIR+\"/\"+ folder):\n",
        "            f = DATA_DIR+\"/\"+ folder +\"/\"+ sub\n",
        "            if sub == 'desktop.ini' or sub =='fail' or f == 'desktop.ini':\n",
        "              continue\n",
        "            img = load_img(f, color_mode=mode)\n",
        "            features.append(img2vec.get_vec(img))\n",
        "            features_dict[sub] = (img, 0)\n",
        "        \n",
        "            labels.append(folder)\n",
        "        count+=1\n",
        "            \n",
        "    features = np.array(features)\n",
        "    features = minmax.fit_transform(features)\n",
        "    \n",
        "    Le = LabelEncoder()\n",
        "    \n",
        "    labels = np.array(labels)\n",
        "    #labels = minmax.fit_transform(labels.reshape(-1,1))\n",
        "    labels_encoder = Le.fit_transform(labels)\n",
        " \n",
        "    x_train, x_test, y_train, y_test = train_test_split(features, labels_encoder, test_size=test_size, random_state=42)\n",
        "    #x_train, x_val, y_train, y_val = train_test_split(x_train, y_train, test_size=0.25, random_state=42)\n",
        "    \n",
        "    print(\"Find total\",count,\"folder.\")\n",
        "    print (\"Generated data.\")\n",
        "    return features, labels, labels_encoder, features_dict,x_train, x_test, y_train, y_test"
      ],
      "execution_count": null,
      "outputs": []
    },
    {
      "cell_type": "code",
      "metadata": {
        "colab": {
          "base_uri": "https://localhost:8080/"
        },
        "id": "wYM7O7qysdYC",
        "outputId": "50bb7bd6-e44b-4e28-ddaf-df34309ef245"
      },
      "source": [
        "features, labels, labels_encoder, features_dict,x_train, x_test, y_train, y_test = load_data_vec(verbose=False, load_grayscale=False)"
      ],
      "execution_count": null,
      "outputs": [
        {
          "output_type": "stream",
          "name": "stdout",
          "text": [
            "55 Searching folder: KoplowMG\n",
            "56 Searching folder: KennyFW\n",
            "57 Searching folder: KeaneTM\n",
            "58 Searching folder: JonesSO\n",
            "59 Searching folder: JessupHS\n",
            "60 Searching folder: JarrettJE\n",
            "61 Searching folder: IdleJR\n",
            "62 Searching folder: HsiehTC\n",
            "63 Searching folder: HoytWT\n",
            "64 Searching folder: HoneycuttDG\n",
            "65 Searching folder: HolekML\n",
            "66 Searching folder: HobbsWD\n",
            "67 Searching folder: HendershotML\n",
            "68 Searching folder: HeimannRK\n",
            "69 Searching folder: HattonCR\n",
            "70 Searching folder: HarrisTC\n",
            "71 Searching folder: HamannMA\n",
            "72 Searching folder: HallLM\n",
            "73 Searching folder: GravelyLE\n",
            "74 Searching folder: GourleyRD\n",
            "75 Searching folder: GertenbechRF\n",
            "76 Searching folder: GertenbachRF\n",
            "77 Searching folder: GehaRS\n",
            "78 Searching folder: GaleottiKL\n",
            "79 Searching folder: FerraroCJ\n",
            "80 Searching folder: FeldmanJD\n",
            "81 Searching folder: FassuliotisConstance\n",
            "82 Searching folder: EisenbergAD\n",
            "83 Searching folder: DimechEllen\n",
            "84 Searching folder: DaigleWP\n",
            "85 Searching folder: CowingMW\n",
            "86 Searching folder: ColinJan\n",
            "87 Searching folder: CoileyGK\n",
            "88 Searching folder: ClarkJM\n",
            "89 Searching folder: CharlesFK\n",
            "90 Searching folder: ChakrabortyBB\n",
            "91 Searching folder: CamisaRJ\n",
            "92 Searching folder: BrownJC\n",
            "93 Searching folder: BrooksJG\n",
            "94 Searching folder: BroemanIna\n",
            "95 Searching folder: BowdenDH\n",
            "96 Searching folder: BoffaJR\n",
            "97 Searching folder: BoderJB\n",
            "98 Searching folder: BleusteinJL\n",
            "99 Searching folder: BibleGC\n",
            "100 Searching folder: BernsteinAlvin\n",
            "101 Searching folder: BergmanJI\n",
            "102 Searching folder: BeattyDA\n",
            "103 Searching folder: AusternHT\n",
            "104 Searching folder: AhrensteldTF\n",
            "Find total 105 folder.\n",
            "Generated data.\n"
          ]
        }
      ]
    },
    {
      "cell_type": "code",
      "metadata": {
        "colab": {
          "base_uri": "https://localhost:8080/"
        },
        "id": "ywEBExp9Gw30",
        "outputId": "36c30b3a-97db-41e1-cbcd-bff010b081b8"
      },
      "source": [
        "print(len(features))"
      ],
      "execution_count": null,
      "outputs": [
        {
          "output_type": "stream",
          "name": "stdout",
          "text": [
            "549\n"
          ]
        }
      ]
    },
    {
      "cell_type": "code",
      "metadata": {
        "colab": {
          "base_uri": "https://localhost:8080/"
        },
        "id": "peZZW3gGtM1H",
        "outputId": "e6a0e844-e11c-49e3-8194-aacb426fb012"
      },
      "source": [
        "print(x_train)"
      ],
      "execution_count": null,
      "outputs": [
        {
          "output_type": "stream",
          "name": "stdout",
          "text": [
            "[[0.83673984 0.34997338 0.37000564 ... 0.01352965 0.09668132 0.05802956]\n",
            " [0.60366464 0.09347636 0.1442512  ... 0.7895495  0.31769943 0.36176488]\n",
            " [0.15097974 0.11375149 0.         ... 0.03696065 0.01075013 0.3050281 ]\n",
            " ...\n",
            " [0.15991092 0.18324366 0.2774019  ... 0.2443763  0.19558877 0.27056527]\n",
            " [0.03584806 0.23356113 0.17930956 ... 0.29787126 0.03847598 0.2931704 ]\n",
            " [0.08310711 0.21585657 0.22279382 ... 0.34473258 0.02374302 0.33821934]]\n"
          ]
        }
      ]
    },
    {
      "cell_type": "code",
      "metadata": {
        "colab": {
          "base_uri": "https://localhost:8080/"
        },
        "id": "ISwYfmXX_Kz3",
        "outputId": "fbd6a291-e9cb-418c-8112-c49622782641"
      },
      "source": [
        "print(labels_encoder)"
      ],
      "execution_count": null,
      "outputs": [
        {
          "output_type": "stream",
          "name": "stdout",
          "text": [
            "[ 95  95  95  95  95  95  95  95  95 103 103 103 103 103 103 103  91  91\n",
            "  91  91  91 102 102  87  87  87  87 100  90  90  90  90  90  90  90  90\n",
            "  90  98  98  98  98  98  98  98  98  98  98  99  99  92  92  97  85  93\n",
            "  93  93  86  86  88  88  88  88  89  89  89  89  89  89  89  94  94  94\n",
            "  94  94  94  94  94  94  94  96  96  96  96  96  96  96 101 101 101 101\n",
            " 101  84  84  84  84  83  83  83  83  83  83  83  82  82  82  82  81  80\n",
            "  80  80  80  79  79  79  79  79  79  79  79  78  77  76  76  76  76  76\n",
            "  75  75  75  74  73  72  71  70  69  69  69  69  69  69  69  68  68  68\n",
            "  68  68  68  68  68  68  67  67  66  66  66  66  66  66  66  66  66  66\n",
            "  66  66  65  65  65  65  65  65  65  65  65  65  65  65  65  64  64  63\n",
            "  63  63  63  63  63  63  63  63  62  62  62  62  62  62  62  62  62  62\n",
            "  62  61  61  60  59  59  59  58  58  57  56  56  56  56  55  55  55  55\n",
            "  54  54  53  53  53  53  53  53  53  53  53  53  53  53  53  52  52  52\n",
            "  52  51  51  51  51  51  51  50  50  50  50  50  50  50  50  50  50  49\n",
            "  49  49  49  49  49  49  49  49  49  49  48  48  47  47  47  47  47  47\n",
            "  47  47  47  47  47  46  46  46  45  45  44  44  44  44  43  43  43  43\n",
            "  43  43  43  43  43  43  43  42  42  41  41  40  40  40  40  40  40  39\n",
            "  39  39  39  39  39  39  38  38  38  38  38  38  38  38  38  38  38  37\n",
            "  37  37  37  36  36  35  35  35  34  34  33  33  33  33  33  33  33  33\n",
            "  32  31  31  31  31  31  30  30  30  30  30  29  29  28  28  28  28  28\n",
            "  27  27  27  27  27  26  26  26  26  26  26  26  26  26  25  25  25  25\n",
            "  25  25  25  25  25  25  24  24  24  24  23  23  23  23  23  23  23  23\n",
            "  23  23  22  22  22  22  22  22  22  22  22  22  22  21  21  21  21  21\n",
            "  21  21  21  21  20  20  20  19  19  19  19  19  19  19  19  19  19  18\n",
            "  17  17  17  17  17  17  17  17  17  17  17  17  16  16  16  16  16  16\n",
            "  16  16  15  15  15  15  15  15  15  15  15  14  14  14  14  14  14  14\n",
            "  14  14  13  13  13  13  12  11  10  10  10   9   9   9   9   9   9   9\n",
            "   9   9   9   9   9   8   8   8   8   8   8   8   8   7   7   7   7   7\n",
            "   7   7   6   6   6   6   6   6   6   6   5   5   5   5   5   5   4   4\n",
            "   4   4   3   3   3   3   3   3   3   3   3   2   2   2   2   2   2   2\n",
            "   2   1   1   1   1   1   1   1   0]\n"
          ]
        }
      ]
    },
    {
      "cell_type": "code",
      "metadata": {
        "colab": {
          "base_uri": "https://localhost:8080/"
        },
        "id": "DLENlqd2tQ_A",
        "outputId": "dfcc97a0-4850-4e5c-c33b-1aee9d801f94"
      },
      "source": [
        "print(y_train)"
      ],
      "execution_count": null,
      "outputs": [
        {
          "output_type": "stream",
          "name": "stdout",
          "text": [
            "[  9  66 103  33  98  93   2  98  84  10  27  19  13  50   0  22   8  26\n",
            "  59  33  28  27  39  22  94  49   5  17  63  76  22  53  51  65   2  39\n",
            "   8  25  47  38  26  38  16  91  25  86   9  44  23  13  49   9  62  87\n",
            "  43  98  30   4  14  22  38  66  75  43  25  65  90  79  40  65  27  56\n",
            "  86  49  87  91  51  89  50   3  47  16  13  84  63  52  84  87  46  40\n",
            "  41  95  79  98  53  38  91  99  21  21  95  47  50  88  62   3  80  15\n",
            "  40  90  50  53  87  95  63  92  80  98  66   4  79  21  79  41  59  65\n",
            "  50  25  68  62  19  17  43  39   9   6  68  20  89  18  53  65  62  47\n",
            "  17  47  62  66   6  28  15  23  82  25  94  29   3  78  38  32  22   3\n",
            "  34  43  33  17  33  90  69  49  37  88  79  40  14  48  21  67  47  17\n",
            "  98  27  62  42  68  16  68  17  19  76  19  83  68  51   3  83   8  43\n",
            "  22  76  63  59  50  14  33  22  17   1  37  76  31  53   9  53  74   6\n",
            "  35  25   1  35  22  33  43  19  23  30  79  63  30   9   8  38  67   3\n",
            "  52  39  28  65  38  69  62  49  52  79  77  22  53  14   7  31  75   2\n",
            "  43   7   4  80  19  26  70  19  98  65  89  44  96  50  63  17  66 103\n",
            "  90  90  65  68   2  23  53  83  97  51  19  30  17  64  16  98   7  16\n",
            "  58  23  44  28  23  49   5  95  49   5  83  53   3  55   9  65  83  43\n",
            "  55  88  22  99  90  21  47  36  61  69 100  16  53  49  25  43  20  66\n",
            "  23   9  69  89  69  75   3  95  37  31  89  40 103  66  98  25  63  14\n",
            "  54  21  45   7   8  33  51  57  55  42   5  49   2  14  15   1  40  30\n",
            "  47  16  60  66  98  54  22  62  10  39  49  82  93  23  95   6  28  92\n",
            "  20  96  58  90  19  48  19  15  17  26  84  33   3  85  31  47  50 103\n",
            "  38 101  24  47  65  36   1   9   2   7  50  62  11   6  88  12  49 102\n",
            "  38  15  66  46  62  24  21   8  31  39  73  83  26 101  15  35  55  14\n",
            "  76  91  94  81  47  17  82]\n"
          ]
        }
      ]
    },
    {
      "cell_type": "code",
      "metadata": {
        "id": "EyJD8h_UN-Zz"
      },
      "source": [
        "from sklearn.neighbors import KNeighborsClassifier\n",
        "knn_model = KNeighborsClassifier(n_neighbors=3, weights = 'distance')"
      ],
      "execution_count": null,
      "outputs": []
    },
    {
      "cell_type": "code",
      "metadata": {
        "id": "6f2W3EsJOjtW",
        "colab": {
          "base_uri": "https://localhost:8080/"
        },
        "outputId": "861152ec-8aac-4f1f-8731-fbf78119697d"
      },
      "source": [
        "knn_model.fit(x_train, y_train)"
      ],
      "execution_count": null,
      "outputs": [
        {
          "output_type": "execute_result",
          "data": {
            "text/plain": [
              "KNeighborsClassifier(algorithm='auto', leaf_size=30, metric='minkowski',\n",
              "                     metric_params=None, n_jobs=None, n_neighbors=3, p=2,\n",
              "                     weights='distance')"
            ]
          },
          "metadata": {},
          "execution_count": 12
        }
      ]
    },
    {
      "cell_type": "code",
      "metadata": {
        "id": "i0HTg0Vhmc1x",
        "colab": {
          "base_uri": "https://localhost:8080/"
        },
        "outputId": "dde0b9f3-2171-4e42-b1c1-2474c22b8d58"
      },
      "source": [
        "y_pred = knn_model.predict(x_test)\n",
        "print(y_pred)"
      ],
      "execution_count": null,
      "outputs": [
        {
          "output_type": "stream",
          "name": "stdout",
          "text": [
            "[ 62  90   9  15  13   9  96  26   7  49  63 103  94  53  26  96  25  95\n",
            "  53  16  23  47  14  65  96  79  63  43  75   7  50  81   6  91  19  94\n",
            "  42  65  21   8  61  30  28  94  66  63  38   6  44  20  23  87  38  26\n",
            "  38  93  45  15 101  15  79  51  90  64  82 103  68  22  21 101  68   7\n",
            "  33  79  90  25  84  68   2  66  94  15  62  89   1  89  52   8  14   6\n",
            "  15  90  17  63  95 103  46  26  26  83  38 101  34  30  56   1  69  26\n",
            "  91  37]\n"
          ]
        }
      ]
    },
    {
      "cell_type": "code",
      "metadata": {
        "colab": {
          "base_uri": "https://localhost:8080/"
        },
        "id": "GIF072EYCVzE",
        "outputId": "7050553a-7273-4f79-cb7b-a18708b40856"
      },
      "source": [
        "print('accuracy = ', accuracy_score(y_test, y_pred)*100)\n",
        "#print('precision = ',precision_score(y_test, y_pred)*100)\n",
        "#print('recall = ',recall_score(y_test, y_pred)*100)\n",
        "#print('precision = ',precision_score(y_test, y_pred)*100)\n",
        "#print('f1-score = ',f1_score(y_test, y_pred)*100)\n",
        " \n",
        "print(classification_report(y_test, y_pred))"
      ],
      "execution_count": null,
      "outputs": [
        {
          "output_type": "stream",
          "name": "stdout",
          "text": [
            "accuracy =  70.9090909090909\n",
            "              precision    recall  f1-score   support\n",
            "\n",
            "           1       1.00      0.67      0.80         3\n",
            "           2       1.00      0.50      0.67         2\n",
            "           4       0.00      0.00      0.00         1\n",
            "           5       0.00      0.00      0.00         2\n",
            "           6       1.00      1.00      1.00         3\n",
            "           7       0.67      1.00      0.80         2\n",
            "           8       1.00      1.00      1.00         2\n",
            "           9       1.00      0.67      0.80         3\n",
            "          10       0.00      0.00      0.00         1\n",
            "          13       1.00      1.00      1.00         1\n",
            "          14       1.00      1.00      1.00         2\n",
            "          15       0.60      1.00      0.75         3\n",
            "          16       1.00      1.00      1.00         1\n",
            "          17       1.00      1.00      1.00         1\n",
            "          19       0.00      0.00      0.00         0\n",
            "          20       0.00      0.00      0.00         0\n",
            "          21       1.00      1.00      1.00         2\n",
            "          22       0.00      0.00      0.00         0\n",
            "          23       1.00      1.00      1.00         2\n",
            "          24       0.00      0.00      0.00         2\n",
            "          25       1.00      1.00      1.00         2\n",
            "          26       0.67      1.00      0.80         4\n",
            "          27       0.00      0.00      0.00         1\n",
            "          28       0.00      0.00      0.00         0\n",
            "          29       0.00      0.00      0.00         1\n",
            "          30       0.00      0.00      0.00         0\n",
            "          33       0.00      0.00      0.00         0\n",
            "          34       1.00      1.00      1.00         1\n",
            "          37       1.00      1.00      1.00         1\n",
            "          38       0.25      0.50      0.33         2\n",
            "          39       0.00      0.00      0.00         1\n",
            "          42       0.00      0.00      0.00         0\n",
            "          43       1.00      0.50      0.67         2\n",
            "          44       1.00      1.00      1.00         1\n",
            "          45       0.00      0.00      0.00         1\n",
            "          46       1.00      1.00      1.00         1\n",
            "          47       0.00      0.00      0.00         0\n",
            "          49       0.00      0.00      0.00         0\n",
            "          50       1.00      1.00      1.00         1\n",
            "          51       1.00      1.00      1.00         1\n",
            "          52       1.00      1.00      1.00         1\n",
            "          53       1.00      0.67      0.80         3\n",
            "          56       1.00      0.33      0.50         3\n",
            "          61       1.00      1.00      1.00         1\n",
            "          62       0.50      1.00      0.67         1\n",
            "          63       0.50      1.00      0.67         2\n",
            "          64       1.00      1.00      1.00         1\n",
            "          65       1.00      0.67      0.80         3\n",
            "          66       1.00      0.67      0.80         3\n",
            "          68       0.67      0.67      0.67         3\n",
            "          69       1.00      0.50      0.67         2\n",
            "          71       0.00      0.00      0.00         1\n",
            "          72       0.00      0.00      0.00         1\n",
            "          75       0.00      0.00      0.00         0\n",
            "          79       0.33      1.00      0.50         1\n",
            "          80       0.00      0.00      0.00         1\n",
            "          81       0.00      0.00      0.00         0\n",
            "          82       1.00      1.00      1.00         1\n",
            "          83       1.00      1.00      1.00         1\n",
            "          84       0.00      0.00      0.00         0\n",
            "          87       0.00      0.00      0.00         0\n",
            "          89       1.00      1.00      1.00         2\n",
            "          90       0.50      1.00      0.67         2\n",
            "          91       0.50      1.00      0.67         1\n",
            "          93       1.00      1.00      1.00         1\n",
            "          94       1.00      0.57      0.73         7\n",
            "          95       1.00      0.67      0.80         3\n",
            "          96       1.00      0.60      0.75         5\n",
            "         101       1.00      1.00      1.00         3\n",
            "         102       0.00      0.00      0.00         1\n",
            "         103       1.00      1.00      1.00         3\n",
            "\n",
            "    accuracy                           0.71       110\n",
            "   macro avg       0.58      0.57      0.55       110\n",
            "weighted avg       0.79      0.71      0.72       110\n",
            "\n"
          ]
        },
        {
          "output_type": "stream",
          "name": "stderr",
          "text": [
            "/usr/local/lib/python3.7/dist-packages/sklearn/metrics/_classification.py:1272: UndefinedMetricWarning: Precision and F-score are ill-defined and being set to 0.0 in labels with no predicted samples. Use `zero_division` parameter to control this behavior.\n",
            "  _warn_prf(average, modifier, msg_start, len(result))\n",
            "/usr/local/lib/python3.7/dist-packages/sklearn/metrics/_classification.py:1272: UndefinedMetricWarning: Recall and F-score are ill-defined and being set to 0.0 in labels with no true samples. Use `zero_division` parameter to control this behavior.\n",
            "  _warn_prf(average, modifier, msg_start, len(result))\n"
          ]
        }
      ]
    },
    {
      "cell_type": "code",
      "metadata": {
        "id": "e6NiKfk64Z_a"
      },
      "source": [
        "from sklearn.metrics import average_precision_score\n",
        "average_precision = average_precision_score(y_test, y_pred)\n",
        " \n",
        "print('Average precision-recall score: {0:0.2f}'.format(\n",
        "      average_precision))"
      ],
      "execution_count": null,
      "outputs": []
    },
    {
      "cell_type": "code",
      "metadata": {
        "id": "AkkN1jqj78Bu"
      },
      "source": [
        "from sklearn.metrics import precision_recall_curve\n",
        "from sklearn.metrics import plot_precision_recall_curve\n",
        "import matplotlib.pyplot as plt\n",
        "\n",
        "disp = plot_precision_recall_curve(knn_model, x_test, y_test)\n",
        "disp.ax_.set_title('2-class Precision-Recall curve: ''AP={0:0.2f}'.format(average_precision))"
      ],
      "execution_count": null,
      "outputs": []
    }
  ]
}